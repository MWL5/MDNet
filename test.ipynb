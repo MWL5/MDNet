{
 "cells": [
  {
   "cell_type": "code",
   "execution_count": 35,
   "metadata": {
    "collapsed": false
   },
   "outputs": [
    {
     "name": "stdout",
     "output_type": "stream",
     "text": [
      "Number of samples for each frame is 256 and pre-train iteration is 3840.\n",
      "save image_list.json successfully.\n",
      "save gt_info.json successfully.\n",
      "VDBC instance built.\n",
      "[Evaluator]Video set: ['ball', 'basketball', 'bicycle', 'bolt', 'car', 'david', 'diving', 'drunk', 'fernando', 'fish1', 'fish2', 'gymnastics', 'hand1', 'hand2', 'jogging', 'motocross', 'polarbear', 'skating', 'sphere', 'sunshade', 'surfing', 'torus', 'trellis', 'tunnel', 'woman']\n",
      "[Evaluator]Number of sets: 25\n"
     ]
    }
   ],
   "source": [
    "__author__ = 'stephen'\n",
    "\n",
    "import caffe\n",
    "import cv2, os\n",
    "import numpy as np\n",
    "import matplotlib.pyplot as plt\n",
    "from lib.vdbc.dataset_factory import VDBC\n",
    "from lib.vdbc.evaluate import Evaluator\n",
    "from lib.vdbc.sample import gaussian_sample\n",
    "\n",
    "from lib.data_layer.layer import get_next_mini_batch\n",
    "\n",
    "PARAMS = (0.3, 0.3, 0.05, 0.7, 0.3)\n",
    "IMS_PER_FRAME = 256\n",
    "PRE_TRAIN_ITERS = IMS_PER_FRAME * 15\n",
    "VISUAL = False\n",
    "print 'Number of samples for each frame is {} and pre-train iteration is {}.'.format(IMS_PER_FRAME, PRE_TRAIN_ITERS)\n",
    "\n",
    "# get the deploy solver and net with pre-trained caffe model\n",
    "TRAIN = os.path.join('model', 'deploy_solver.prototxt')\n",
    "TEST = os.path.join('model', 'deploy_test.prototxt')\n",
    "WEIGHTS = os.path.join('model', 'MDNet_iter_2946816.caffemodel')\n",
    "\n",
    "# set GPU mode\n",
    "caffe.set_mode_gpu()\n",
    "caffe.set_device(1)\n",
    "\n",
    "# get the Evaluator\n",
    "dtype = 'VOT'\n",
    "dbpath = os.path.join('data', 'vot2014')\n",
    "gtpath = dbpath\n",
    "vdbc = VDBC(dbtype=dtype, dbpath=dbpath, gtpath=gtpath, flush=True)\n",
    "evl = Evaluator(vdbc)"
   ]
  },
  {
   "cell_type": "code",
   "execution_count": 36,
   "metadata": {
    "collapsed": true
   },
   "outputs": [],
   "source": [
    "def vis_detection(im_path, gt, box):\n",
    "    im = cv2.imread(im_path)[:, :, (2, 1, 0)]\n",
    "    plt.cla()\n",
    "    plt.imshow(im)\n",
    "    # add ground-truth box\n",
    "    plt.gca().add_patch(\n",
    "        plt.Rectangle(\n",
    "            (gt[0], gt[1]),\n",
    "            gt[2], gt[3],\n",
    "            fill=False,\n",
    "            edgecolor='red',\n",
    "            linewidth=1.5\n",
    "        )\n",
    "    )\n",
    "    # add detection box\n",
    "    plt.gca().add_patch(\n",
    "        plt.Rectangle(\n",
    "            (box[0], box[1]),\n",
    "            box[2], box[3],\n",
    "            fill=False,\n",
    "            edgecolor='blue',\n",
    "            linewidth=1.5\n",
    "        )\n",
    "    )\n",
    "\n",
    "    plt.show()"
   ]
  },
  {
   "cell_type": "code",
   "execution_count": 37,
   "metadata": {
    "collapsed": true
   },
   "outputs": [],
   "source": [
    "def get_solver_net(train, test, weights):\n",
    "    solver = caffe.SGDSolver(train)\n",
    "    solver.net.copy_from(weights)\n",
    "\n",
    "    net = caffe.Net(test, caffe.TEST)\n",
    "    net.share_with(solver.net)\n",
    "\n",
    "    return solver, net"
   ]
  },
  {
   "cell_type": "code",
   "execution_count": 38,
   "metadata": {
    "collapsed": true
   },
   "outputs": [],
   "source": [
    "def evaluate(evl):\n",
    "    # Step 1: get solver and net, and then pre-train it \n",
    "    # Get solver and net with prototxt and weights\n",
    "    solver, net = get_solver_net(TRAIN, TEST, WEIGHTS)\n",
    "    # Initialize the net with the first frame\n",
    "    im_path, gt = evl.init_frame()\n",
    "    im = cv2.imread(im_path)\n",
    "    samples = gaussian_sample(im, gt, PARAMS, PRE_TRAIN_ITERS)\n",
    "    db = []\n",
    "    for i in range(len(samples)):\n",
    "        db.append({\n",
    "                'path': im_path,\n",
    "                'img': im,\n",
    "                'gt': gt,\n",
    "                'samples': [samples[i]]\n",
    "            })\n",
    "    solver.net.layers[0].get_db(db)\n",
    "    solver.step(PRE_TRAIN_ITERS)\n",
    "    \n",
    "    # Step 2: sample from each frame and then take the \n",
    "    # ROI with highest score as the target\n",
    "    for it in range(10):\n",
    "        im_path = evl.next_frame()\n",
    "        im = cv2.imread(im_path)\n",
    "        samples=gaussian_sample(im, gt, PARAMS, IMS_PER_FRAME)\n",
    "        # get all boxes\n",
    "        candidate_boxes = [s['box'] for s in samples]\n",
    "        scores = np.zeros(IMS_PER_FRAME, dtype=np.float32)\n",
    "        for i in range(IMS_PER_FRAME):\n",
    "            db = [{\n",
    "                'path': im_path,\n",
    "                'img': im,\n",
    "                'samples': [samples[i]]\n",
    "            }]\n",
    "            blob = get_next_mini_batch(db)\n",
    "            blob = {'data': blob['data'].astype(np.float32, copy=True)}\n",
    "            net.blobs['data'].reshape(*blob['data'].shape)\n",
    "            out = net.forward(data=blob['data'])['cls_prob']\n",
    "            scores[i] = out[0, 1]\n",
    "        # Choose the target box\n",
    "        ind = scores.argmax()\n",
    "        target_box = candidate_boxes[ind]\n",
    "        evl.report(target_box) # report the target\n",
    "        ground_truth_box = evl.get_ground_truth()\n",
    "        if VISUAL:\n",
    "            vis_detection(im_path, ground_truth_box, target_box)"
   ]
  },
  {
   "cell_type": "code",
   "execution_count": 39,
   "metadata": {
    "collapsed": false
   },
   "outputs": [
    {
     "name": "stdout",
     "output_type": "stream",
     "text": [
      "[DataLayer]Number of classes: 2.\n",
      "[DataLayer] Get the database.\n"
     ]
    }
   ],
   "source": [
    "evl.set_video(0)\n",
    "evaluate(evl)"
   ]
  },
  {
   "cell_type": "code",
   "execution_count": 40,
   "metadata": {
    "collapsed": false
   },
   "outputs": [
    {
     "data": {
      "text/plain": [
       "{'ball': [0.85987132310407821,\n",
       "  0.69519236330605982,\n",
       "  0.81187381151241267,\n",
       "  0.8395410990819332,\n",
       "  0.70098948699289088,\n",
       "  0.86046756913150346,\n",
       "  0.70393134769170185,\n",
       "  0.8645565993632337,\n",
       "  0.80748055335571534,\n",
       "  0.52798452758593373]}"
      ]
     },
     "execution_count": 40,
     "metadata": {},
     "output_type": "execute_result"
    }
   ],
   "source": [
    "evl.get_results()"
   ]
  },
  {
   "cell_type": "code",
   "execution_count": null,
   "metadata": {
    "collapsed": true
   },
   "outputs": [],
   "source": []
  }
 ],
 "metadata": {
  "kernelspec": {
   "display_name": "Python 2",
   "language": "python",
   "name": "python2"
  },
  "language_info": {
   "codemirror_mode": {
    "name": "ipython",
    "version": 2
   },
   "file_extension": ".py",
   "mimetype": "text/x-python",
   "name": "python",
   "nbconvert_exporter": "python",
   "pygments_lexer": "ipython2",
   "version": "2.7.11+"
  }
 },
 "nbformat": 4,
 "nbformat_minor": 0
}
