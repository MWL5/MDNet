{
 "cells": [
  {
   "cell_type": "code",
   "execution_count": null,
   "metadata": {
    "collapsed": false
   },
   "outputs": [],
   "source": [
    "__author__ = 'stephen'\n",
    "\n",
    "import caffe\n",
    "import cv2, os\n",
    "import numpy as np\n",
    "import matplotlib.pyplot as plt\n",
    "from lib.vdbc.dataset_factory import VDBC\n",
    "from lib.vdbc.evaluate import Evaluator\n",
    "from lib.vdbc.sample import gaussian_sample\n",
    "\n",
    "from lib.data_layer.layer import get_next_mini_batch\n",
    "\n",
    "PARAMS = (0.3, 0.3, 0.05, 0.7, 0.3)\n",
    "IMS_PER_FRAME = 20\n",
    "\n",
    "\n",
    "def vis_detection(im_path, gt, box):\n",
    "    im = cv2.imread(im_path)[:, :, (2, 1, 0)]\n",
    "    plt.cla()\n",
    "    plt.imshow(im)\n",
    "    # add ground-truth box\n",
    "    plt.gca().add_patch(\n",
    "        plt.Rectangle(\n",
    "            (gt[0], gt[1]),\n",
    "            gt[2], gt[3],\n",
    "            fill=False,\n",
    "            edgecolor='red',\n",
    "            linewidth=1.5\n",
    "        )\n",
    "    )\n",
    "    # add detection box\n",
    "    plt.gca().add_patch(\n",
    "        plt.Rectangle(\n",
    "            (box[0], box[1]),\n",
    "            box[2], box[3],\n",
    "            fill=False,\n",
    "            edgecolor='blue',\n",
    "            linewidth=1.5\n",
    "        )\n",
    "    )\n",
    "\n",
    "    plt.show()\n",
    "\n",
    "\n",
    "def get_solver_net(train, test, weights):\n",
    "    solver = caffe.SGDSolver(train)\n",
    "    solver.net.copy_from(weights)\n",
    "\n",
    "#     net = caffe.Net(test, caffe.TEST)\n",
    "#     net.share_with(solver.net)\n",
    "\n",
    "    return solver, net\n",
    "\n",
    "\n",
    "def evaluate(evl, solver, net):\n",
    "    # Initialize the net with the first frame\n",
    "    im_path, gt = evl.init_frame()\n",
    "    im = cv2.imread(im_path)\n",
    "    samples = gaussian_sample(im, gt, PARAMS, 5500)\n",
    "    db = []\n",
    "    for i in range(len(samples)):\n",
    "        db.append({\n",
    "                'path': im_path,\n",
    "                'img': im,\n",
    "                'gt': gt,\n",
    "                'samples': [samples[i]]\n",
    "            })\n",
    "    solver.net.layers[0].get_db(db)\n",
    "    solver.step(1000)\n",
    "    \n",
    "    for i in range(2):\n",
    "        im_path = evl.next_frame()\n",
    "        im = cv2.imread(im_path)\n",
    "        samples=gaussian_sample(im, gt, PARAMS, IMS_PER_FRAME)\n",
    "        scores = np.zeros(IMS_PER_FRAME, dtype=np.float32)\n",
    "        for i in range(IMS_PER_FRAME):\n",
    "            db = [{\n",
    "                'path': im_path,\n",
    "                'img': im,\n",
    "                'gt': gt,\n",
    "                'samples': [samples[i]]\n",
    "            }]\n",
    "#             print samples[i]['box']\n",
    "            blob = get_next_mini_batch(db)\n",
    "            blob = {'data': blob['data'].astype(np.float32, copy=True)}\n",
    "            net.blobs['data'].reshape(*blob['data'].shape)\n",
    "            net.forward(data=blob['data'])\n",
    "            print '~~~~~~~~~~~~~~~~~~~~~~~~~~~~~~'\n",
    "            print net.blobs['cls_prob'].data\n",
    "        \n",
    "\n",
    "if __name__ == '__main__':\n",
    "    caffe.set_mode_gpu()\n",
    "    caffe.set_device(1)\n",
    "    # get the deploy solver and net with pre-trained caffe model\n",
    "    train = os.path.join('model', 'solver.prototxt')\n",
    "    test = os.path.join('model', 'deploy_test.prototxt')\n",
    "    weights = os.path.join('model', 'MDNet_iter_100000.caffemodel')\n",
    "\n",
    "    solver, net = get_solver_net(train, test, weights)\n",
    "\n",
    "    # get the Evaluator\n",
    "#     dtype = 'VOT'\n",
    "#     dbpath = os.path.join('data', 'vot2014')\n",
    "#     gtpath = dbpath\n",
    "\n",
    "#     vdbc = VDBC(dbtype=dtype, dbpath=dbpath, gtpath=gtpath, flush=True)\n",
    "\n",
    "#     evl = Evaluator(vdbc)\n",
    "#     evl.set_video(1)\n",
    "\n",
    "#     evaluate(evl, solver, net)\n"
   ]
  },
  {
   "cell_type": "code",
   "execution_count": 1,
   "metadata": {
    "collapsed": false
   },
   "outputs": [
    {
     "ename": "NameError",
     "evalue": "name 'net' is not defined",
     "output_type": "error",
     "traceback": [
      "\u001b[0;31m---------------------------------------------------------------------------\u001b[0m",
      "\u001b[0;31mNameError\u001b[0m                                 Traceback (most recent call last)",
      "\u001b[0;32m<ipython-input-1-8e5a10da66ab>\u001b[0m in \u001b[0;36m<module>\u001b[0;34m()\u001b[0m\n\u001b[0;32m----> 1\u001b[0;31m \u001b[0;32mprint\u001b[0m \u001b[0mnet\u001b[0m\u001b[0;34m.\u001b[0m\u001b[0mparams\u001b[0m\u001b[0;34m[\u001b[0m\u001b[0;34m'conv_3'\u001b[0m\u001b[0;34m]\u001b[0m\u001b[0;34m[\u001b[0m\u001b[0;36m0\u001b[0m\u001b[0;34m]\u001b[0m\u001b[0;34m.\u001b[0m\u001b[0mdata\u001b[0m\u001b[0;34m\u001b[0m\u001b[0m\n\u001b[0m",
      "\u001b[0;31mNameError\u001b[0m: name 'net' is not defined"
     ]
    }
   ],
   "source": [
    "print net.params['conv_3'][0].data"
   ]
  },
  {
   "cell_type": "code",
   "execution_count": 16,
   "metadata": {
    "collapsed": false
   },
   "outputs": [
    {
     "name": "stdout",
     "output_type": "stream",
     "text": [
      "[[-0.00717333 -0.02337518 -0.02446882 ..., -0.01592515  0.01756274\n",
      "   0.01766996]\n",
      " [ 0.01886117  0.02416935  0.00705118 ..., -0.02320821  0.01447972\n",
      "   0.01288368]\n",
      " [-0.01867086  0.00476992  0.00599659 ...,  0.01353553  0.01880793\n",
      "   0.00040074]\n",
      " ..., \n",
      " [ 0.00082382  0.02208178  0.01332165 ..., -0.00154689 -0.01270521\n",
      "   0.00579618]\n",
      " [ 0.01694149  0.01193865 -0.01946531 ...,  0.01368811  0.02144342\n",
      "  -0.02395938]\n",
      " [ 0.02394009  0.01216421  0.02480587 ..., -0.00462591 -0.00302853\n",
      "   0.01019591]]\n"
     ]
    }
   ],
   "source": [
    "print net.params['fc4'][0].data"
   ]
  },
  {
   "cell_type": "code",
   "execution_count": 18,
   "metadata": {
    "collapsed": false
   },
   "outputs": [
    {
     "name": "stdout",
     "output_type": "stream",
     "text": [
      "0.0\n"
     ]
    }
   ],
   "source": [
    "print net.params['fc5'][0].data"
   ]
  },
  {
   "cell_type": "code",
   "execution_count": null,
   "metadata": {
    "collapsed": true
   },
   "outputs": [],
   "source": []
  }
 ],
 "metadata": {
  "kernelspec": {
   "display_name": "Python 2",
   "language": "python",
   "name": "python2"
  },
  "language_info": {
   "codemirror_mode": {
    "name": "ipython",
    "version": 2
   },
   "file_extension": ".py",
   "mimetype": "text/x-python",
   "name": "python",
   "nbconvert_exporter": "python",
   "pygments_lexer": "ipython2",
   "version": "2.7.11+"
  }
 },
 "nbformat": 4,
 "nbformat_minor": 0
}
