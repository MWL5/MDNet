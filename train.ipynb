{
 "cells": [
  {
   "cell_type": "code",
   "execution_count": 1,
   "metadata": {
    "collapsed": false
   },
   "outputs": [
    {
     "name": "stdout",
     "output_type": "stream",
     "text": [
      "Model training begins.\n",
      "save image_list.json successfully.\n",
      "save gt_info.json successfully.\n",
      "VDBC instance built.\n",
      "[VDBC] delete set David\n",
      "[VDBC] delete set Bolt\n",
      "[VDBC] delete set Skating1\n",
      "[VDBC] delete set Woman\n",
      "[VDBC] delete set Trellis\n",
      "[VDBC] delete set MotorRolling\n",
      "[VDBC] delete set Diving\n",
      "[VDBC] delete set Basketball\n",
      "VDBC instance built.\n",
      "Total number of frames: 23022\n",
      "Max iterations: 21000\n",
      "[DataLayer]Number of classes: 41.\n",
      "[VDBC] Data of video set Tiger2 is built and ID is 0.\n",
      "[DataLayer] New mini-database built.\n",
      "Initialization of SolverWrapper finished.\n",
      "Begin training the model.\n",
      "speed: 0.006s / iter.\n",
      "speed: 0.006s / iter.\n",
      "speed: 0.006s / iter.\n",
      "speed: 0.006s / iter.\n",
      "speed: 0.006s / iter.\n",
      "speed: 0.006s / iter.\n",
      "speed: 0.006s / iter.\n",
      "speed: 0.006s / iter.\n",
      "speed: 0.006s / iter.\n",
      "speed: 0.006s / iter.\n",
      "speed: 0.006s / iter.\n",
      "speed: 0.006s / iter.\n",
      "speed: 0.006s / iter.\n",
      "speed: 0.006s / iter.\n",
      "speed: 0.006s / iter.\n",
      "speed: 0.006s / iter.\n",
      "speed: 0.006s / iter.\n",
      "speed: 0.006s / iter.\n",
      "speed: 0.006s / iter.\n",
      "speed: 0.006s / iter.\n",
      "Wrote snapshot to: ./model/MDNet_iter_20000.caffemodel\n",
      "speed: 0.006s / iter.\n",
      "Wrote snapshot to: ./model/MDNet_iter_21000.caffemodel\n",
      "Model training finished.\n"
     ]
    }
   ],
   "source": [
    "__author__ = 'stephen'\n",
    "\n",
    "import caffe\n",
    "import os\n",
    "from lib.vdbc.dataset_factory import VDBC\n",
    "from tools.solverwrapper import SolverWrapper\n",
    "\n",
    "ROOT = '.'\n",
    "dbtype = 'OTB'\n",
    "dbpath = os.path.join(ROOT, 'data', 'OTB')\n",
    "gtpath = dbpath\n",
    "output_dir = os.path.join(ROOT, 'model')\n",
    "solver_prototxt = os.path.join(output_dir, 'solver.prototxt')\n",
    "pretrained_model = os.path.join(output_dir, 'vggm.caffemodel')\n",
    "\n",
    "EXCLUDE_SET = {\n",
    "    'vot2014': ['Basketball', 'Bolt', 'David', 'Diving',\n",
    "                'MotorRolling', 'Skating1', 'Trellis', 'Woman']}\n",
    "\n",
    "\n",
    "def train_net(pretrained_model, snapshot_iters=20000):\n",
    "    vdbc = VDBC(dbtype=dbtype, dbpath=dbpath, gtpath=gtpath, flush=True)\n",
    "    vdbc.del_exclude(EXCLUDE_SET['vot2014'])\n",
    "    print 'VDBC instance built.'\n",
    "\n",
    "    num_frame = vdbc.get_frame_count()\n",
    "#     max_iters = 1000 * num_frame\n",
    "    max_iters = 21000\n",
    "    print 'Total number of frames: {}'.format(num_frame)\n",
    "    print 'Max iterations: {}'.format(max_iters)\n",
    "\n",
    "    sw = SolverWrapper(solver_prototxt, vdbc, output_dir, pretrained_model)\n",
    "    print 'Initialization of SolverWrapper finished.'\n",
    "\n",
    "    sw.train_model(max_iters, snapshot_iters)\n",
    "    \n",
    "    return sw\n",
    "\n",
    "\n",
    "def main():\n",
    "    caffe.set_mode_gpu()\n",
    "\n",
    "    print 'Model training begins.'\n",
    "    sw = train_net(pretrained_model)\n",
    "    print 'Model training finished.'\n",
    "    return sw\n",
    "\n",
    "if __name__ == '__main__':\n",
    "    sw = main()\n"
   ]
  },
  {
   "cell_type": "code",
   "execution_count": null,
   "metadata": {
    "collapsed": true
   },
   "outputs": [],
   "source": []
  }
 ],
 "metadata": {
  "kernelspec": {
   "display_name": "Python 2",
   "language": "python",
   "name": "python2"
  },
  "language_info": {
   "codemirror_mode": {
    "name": "ipython",
    "version": 2
   },
   "file_extension": ".py",
   "mimetype": "text/x-python",
   "name": "python",
   "nbconvert_exporter": "python",
   "pygments_lexer": "ipython2",
   "version": "2.7.11+"
  }
 },
 "nbformat": 4,
 "nbformat_minor": 1
}
